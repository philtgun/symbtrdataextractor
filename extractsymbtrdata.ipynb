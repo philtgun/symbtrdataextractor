{
 "cells": [
  {
   "cell_type": "code",
   "execution_count": 1,
   "metadata": {
    "collapsed": false
   },
   "outputs": [],
   "source": [
    "from symbtrdataextractor import extractor\n",
    "from symbtrdataextractor import symbtrreader\n",
    "import os\n",
    "import json\n",
    "import pprint"
   ]
  },
  {
   "cell_type": "code",
   "execution_count": null,
   "metadata": {
    "collapsed": false
   },
   "outputs": [],
   "source": [
    "txtfilename = './examples/nihavent--sarki--kapali_curcuna--kimseye_etmem--kemani_sarkis_efendi.txt'\n",
    "\n",
    "scorename = os.path.splitext(os.path.basename(txtfilename))[0]\n",
    "mbid = 'f8a79c74-cb05-328a-924e-fc751733763b'\n",
    "\n",
    "data = extractor.extract(txtfilename, symbtrname=scorename, mbid=mbid, \n",
    "                         extractAllLabels=False, melody_sim_thres=0.25, \n",
    "                         lyrics_sim_thres=0.25, get_recording_rels=True)"
   ]
  },
  {
   "cell_type": "code",
   "execution_count": null,
   "metadata": {
    "collapsed": false
   },
   "outputs": [
    {
     "name": "stdout",
     "output_type": "stream",
     "text": [
      "Unparsed code: 62       H  \n",
      "> /Users/sertansenturk_mtg/Documents/notaIcra/code/SymbTr-metadata-extractor/symbtrdataextractor/symbtrreader.py(78)readMu2Header()\n",
      "-> pass\n"
     ]
    }
   ],
   "source": [
    "mu2filename = './examples/nihavent--sarki--kapali_curcuna--kimseye_etmem--kemani_sarkis_efendi.mu2'\n",
    "mu2header = symbtrreader.readMu2Header(mu2filename)\n"
   ]
  }
 ],
 "metadata": {
  "kernelspec": {
   "display_name": "Python 2",
   "language": "python",
   "name": "python2"
  },
  "language_info": {
   "codemirror_mode": {
    "name": "ipython",
    "version": 2
   },
   "file_extension": ".py",
   "mimetype": "text/x-python",
   "name": "python",
   "nbconvert_exporter": "python",
   "pygments_lexer": "ipython2",
   "version": "2.7.10"
  }
 },
 "nbformat": 4,
 "nbformat_minor": 0
}
