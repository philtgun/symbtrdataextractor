{
 "cells": [
  {
   "cell_type": "code",
   "execution_count": 2,
   "metadata": {
    "collapsed": false
   },
   "outputs": [],
   "source": [
    "from symbtrdataextractor import extractor\n",
    "import os\n",
    "import json\n",
    "import pprint"
   ]
  },
  {
   "cell_type": "code",
   "execution_count": 3,
   "metadata": {
    "collapsed": false
   },
   "outputs": [
    {
     "name": "stdout",
     "output_type": "stream",
     "text": [
      "{'composer': {'mbid': '99c4c547-ec9d-4bb8-8673-53a6355dbd59',\n",
      "              'name': 'Kemani Sarkis Efendi',\n",
      "              'symbtr_slug': 'kemani_sarkis_efendi'},\n",
      " 'form': {'mb_attribute': u'\\u015eark\\u0131', 'symbtr_slug': 'sarki'},\n",
      " 'language': 'tur',\n",
      " 'lyricist': {'mbid': '99c4c547-ec9d-4bb8-8673-53a6355dbd59',\n",
      "              'name': 'Kemani Sarkis Efendi'},\n",
      " 'makam': {'mb_attribute': 'Nihavent', 'symbtr_slug': 'nihavent'},\n",
      " 'sections': [{'endNote': 56,\n",
      "               'lyricStructure': 'INSTRUMENTAL',\n",
      "               'lyrics': '',\n",
      "               'melodicStructure': u'ARANAGME_1',\n",
      "               'name': u'ARANA\\u011eME',\n",
      "               'slug': u'ARANAGME',\n",
      "               'startNote': 1},\n",
      "              {'endNote': 112,\n",
      "               'lyricStructure': 'INSTRUMENTAL',\n",
      "               'lyrics': '',\n",
      "               'melodicStructure': u'ARANAGME_1',\n",
      "               'name': u'ARANA\\u011eME',\n",
      "               'slug': u'ARANAGME',\n",
      "               'startNote': 57},\n",
      "              {'endNote': 145,\n",
      "               'lyricStructure': 'B1',\n",
      "               'lyrics': u'Kimseye etmem \\u015fik\\xe2yet a\\u011flar\\u0131m ben halime  ',\n",
      "               'melodicStructure': 'B1',\n",
      "               'name': u'LYRICS_SECTION',\n",
      "               'slug': u'LYRICS_SECTION',\n",
      "               'startNote': 113},\n",
      "              {'endNote': 178,\n",
      "               'lyricStructure': 'B1',\n",
      "               'lyrics': u'Kimseye etmem \\u015fik\\xe2yet a\\u011flar\\u0131m ben halime  ',\n",
      "               'melodicStructure': 'B2',\n",
      "               'name': u'LYRICS_SECTION',\n",
      "               'slug': u'LYRICS_SECTION',\n",
      "               'startNote': 146},\n",
      "              {'endNote': 220,\n",
      "               'lyricStructure': 'C1',\n",
      "               'lyrics': u'Titrerim m\\xfccrim gibi bakt\\u0131k\\xe7a istikbalime  ',\n",
      "               'melodicStructure': 'C1',\n",
      "               'name': u'LYRICS_SECTION',\n",
      "               'slug': u'LYRICS_SECTION',\n",
      "               'startNote': 179},\n",
      "              {'endNote': 264,\n",
      "               'lyricStructure': 'C1',\n",
      "               'lyrics': u'Titrerim m\\xfccrim gibi bakt\\u0131k\\xe7a istikbalime  ',\n",
      "               'melodicStructure': 'D1',\n",
      "               'name': u'LYRICS_SECTION',\n",
      "               'slug': u'LYRICS_SECTION',\n",
      "               'startNote': 221},\n",
      "              {'endNote': 309,\n",
      "               'lyricStructure': 'D1',\n",
      "               'lyrics': u'Perde i zulmet \\xe7ekilmi\\u015f korkar\\u0131m ikbalime  ',\n",
      "               'melodicStructure': 'E1',\n",
      "               'name': u'LYRICS_SECTION',\n",
      "               'slug': u'LYRICS_SECTION',\n",
      "               'startNote': 265},\n",
      "              {'endNote': 349,\n",
      "               'lyricStructure': 'D1',\n",
      "               'lyrics': u'Perde i zulmet \\xe7ekilmi\\u015f korkar\\u0131m ikbalime  ',\n",
      "               'melodicStructure': 'F1',\n",
      "               'name': u'LYRICS_SECTION',\n",
      "               'slug': u'LYRICS_SECTION',\n",
      "               'startNote': 310},\n",
      "              {'endNote': 391,\n",
      "               'lyricStructure': 'C1',\n",
      "               'lyrics': u'Titrerim m\\xfccrim gibi bakt\\u0131k\\xe7a istikbalime  ',\n",
      "               'melodicStructure': 'C1',\n",
      "               'name': u'LYRICS_SECTION',\n",
      "               'slug': u'LYRICS_SECTION',\n",
      "               'startNote': 350},\n",
      "              {'endNote': 427,\n",
      "               'lyricStructure': 'C1',\n",
      "               'lyrics': u'Titrerim m\\xfccrim gibi bakt\\u0131k\\xe7a istikbalime  ',\n",
      "               'melodicStructure': 'D2',\n",
      "               'name': u'LYRICS_SECTION',\n",
      "               'slug': u'LYRICS_SECTION',\n",
      "               'startNote': 392}],\n",
      " 'symbtr': 'nihavent--sarki--kapali_curcuna--kimseye_etmem--kemani_sarkis_efendi',\n",
      " 'tonic': u'G4',\n",
      " 'usul': {'mb_attribute': u'Kapal\\u0131 Curcuna',\n",
      "          'symbtr_slug': 'kapali_curcuna'},\n",
      " 'work': {'mbid': 'f8a79c74-cb05-328a-924e-fc751733763b',\n",
      "          'title': u'Kimseye Etmem \\u015eikayet'}}\n"
     ]
    }
   ],
   "source": [
    "txtfilename = './examples/nihavent--sarki--kapali_curcuna--kimseye_etmem--kemani_sarkis_efendi.txt'\n",
    "scorename = os.path.splitext(os.path.basename(txtfilename))[0]\n",
    "mbid = 'f8a79c74-cb05-328a-924e-fc751733763b'\n",
    "\n",
    "data = extractor.extract(txtfilename, symbtrname=scorename, mbid=mbid, \n",
    "                         extractAllLabels=False, melody_sim_thres=0.25, \n",
    "                         lyrics_sim_thres=0.25, get_recording_rels=True)\n",
    "\n",
    "pprint.pprint(data)"
   ]
  },
  {
   "cell_type": "code",
   "execution_count": null,
   "metadata": {
    "collapsed": true
   },
   "outputs": [],
   "source": []
  }
 ],
 "metadata": {
  "kernelspec": {
   "display_name": "Python 2",
   "language": "python",
   "name": "python2"
  },
  "language_info": {
   "codemirror_mode": {
    "name": "ipython",
    "version": 2
   },
   "file_extension": ".py",
   "mimetype": "text/x-python",
   "name": "python",
   "nbconvert_exporter": "python",
   "pygments_lexer": "ipython2",
   "version": "2.7.10"
  }
 },
 "nbformat": 4,
 "nbformat_minor": 0
}
