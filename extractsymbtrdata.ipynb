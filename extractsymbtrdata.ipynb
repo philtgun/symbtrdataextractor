{
 "cells": [
  {
   "cell_type": "code",
   "execution_count": null,
   "metadata": {
    "collapsed": false
   },
   "outputs": [],
   "source": [
    "from symbtrdataextractor import extractor\n",
    "from symbtrdataextractor import symbtrreader\n",
    "import os\n",
    "import json\n",
    "import pprint\n"
   ]
  },
  {
   "cell_type": "code",
   "execution_count": null,
   "metadata": {
    "collapsed": false
   },
   "outputs": [
    {
     "name": "stdout",
     "output_type": "stream",
     "text": [
      "> /Users/sertansenturk_mtg/Documents/notaIcra/code/SymbTr-metadata-extractor/symbtrdataextractor/phrase.py(12)extractAnnotatedPhrase()\n",
      "-> if anno_bounds:\n",
      "(Pdb) l\n",
      "  7  \t\n",
      "  8  \t    all_bounds = [i for i, code in enumerate(score['code']) if code in bound_codes]\n",
      "  9  \t    anno_bounds = [i for i, code in enumerate(score['code']) if code in anno_codes]\n",
      " 10  \t    import pdb\n",
      " 11  \t    pdb.set_trace()\n",
      " 12  ->\t    if anno_bounds:\n",
      " 13  \t        phrases = extractPhrases(all_bounds, score, sections = sections, lyrics_sim_thres = 0.25, \n",
      " 14  \t            melody_sim_thres = 0.25)\n",
      " 15  \t    else:\n",
      " 16  \t        phrases = []\n",
      " 17  \t\n",
      "(Pdb) all_biunds\n",
      "*** NameError: name 'all_biunds' is not defined\n",
      "(Pdb) all_bounds\n",
      "[0, 15, 21, 28, 39, 45, 60, 72, 81, 90, 98, 104, 119, 125, 132, 143, 149, 164, 176, 185, 194, 202, 206, 208, 213, 227, 244, 269, 281, 293, 313, 325, 340, 368, 379, 387, 393, 413, 425, 440, 468, 480, 481, 493, 494, 504, 505, 516, 537, 546, 560, 572, 584, 604, 616, 631, 659, 670]\n"
     ]
    }
   ],
   "source": [
    "txtfilename = os.path.join('sampledata','kurdilihicazkar--sarki--agiraksak--ehl-i_askin--tatyos_efendi.txt')\n",
    "autoSegfile = os.path.join('sampledata','kurdilihicazkar--sarki--agiraksak--ehl-i_askin--tatyos_efendi.autoSeg')\n",
    "\n",
    "scorename = os.path.splitext(os.path.basename(txtfilename))[0]\n",
    "mbid = 'b43fd61e-522c-4af4-821d-db85722bf48c'\n",
    "autoSegBounds = json.load(open(autoSegfile,'r'))['boundary_noteIdx']\n",
    "\n",
    "txtdata, isDataValid = extractor.extract(txtfilename, symbtrname=scorename, seg_note_idx=autoSegBounds,\n",
    "                            mbid=mbid, extract_all_labels=False, melody_sim_thres=0.25, \n",
    "                            lyrics_sim_thres=0.25, get_recording_rels=False)\n"
   ]
  },
  {
   "cell_type": "code",
   "execution_count": null,
   "metadata": {
    "collapsed": false
   },
   "outputs": [],
   "source": [
    "mu2filename = os.path.join('sampledata','kurdilihicazkar--sarki--agiraksak--ehl-i_askin--tatyos_efendi.mu2')\n",
    "mu2header, headerRow, isHederValid = symbtrreader.readMu2Header(mu2filename, symbtrname=scorename)\n"
   ]
  },
  {
   "cell_type": "code",
   "execution_count": null,
   "metadata": {
    "collapsed": false,
    "scrolled": false
   },
   "outputs": [],
   "source": [
    "data = extractor.merge(txtdata, mu2header)\n",
    "pprint.pprint(data)\n"
   ]
  }
 ],
 "metadata": {
  "kernelspec": {
   "display_name": "Python 2",
   "language": "python",
   "name": "python2"
  },
  "language_info": {
   "codemirror_mode": {
    "name": "ipython",
    "version": 2
   },
   "file_extension": ".py",
   "mimetype": "text/x-python",
   "name": "python",
   "nbconvert_exporter": "python",
   "pygments_lexer": "ipython2",
   "version": "2.7.10"
  }
 },
 "nbformat": 4,
 "nbformat_minor": 0
}
