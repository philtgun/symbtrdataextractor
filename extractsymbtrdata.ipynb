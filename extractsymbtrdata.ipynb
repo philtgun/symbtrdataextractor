{
 "cells": [
  {
   "cell_type": "code",
   "execution_count": 1,
   "metadata": {
    "collapsed": false
   },
   "outputs": [],
   "source": [
    "from symbtrdataextractor import extractor\n",
    "from symbtrdataextractor import symbtrreader\n",
    "import os\n",
    "import json\n",
    "import pprint\n"
   ]
  },
  {
   "cell_type": "code",
   "execution_count": 2,
   "metadata": {
    "collapsed": false
   },
   "outputs": [
    {
     "ename": "IndexError",
     "evalue": "list index out of range",
     "output_type": "error",
     "traceback": [
      "\u001b[0;31m---------------------------------------------------------------------------\u001b[0m",
      "\u001b[0;31mIndexError\u001b[0m                                Traceback (most recent call last)",
      "\u001b[0;32m<ipython-input-2-2cafc2b1a6c9>\u001b[0m in \u001b[0;36m<module>\u001b[0;34m()\u001b[0m\n\u001b[1;32m      8\u001b[0m txtdata, isDataValid = extractor.extract(txtfilename, symbtrname=scorename, seg_note_idx=autoSegBounds,\n\u001b[1;32m      9\u001b[0m                             \u001b[0mmbid\u001b[0m\u001b[0;34m=\u001b[0m\u001b[0mmbid\u001b[0m\u001b[0;34m,\u001b[0m \u001b[0mextract_all_labels\u001b[0m\u001b[0;34m=\u001b[0m\u001b[0mFalse\u001b[0m\u001b[0;34m,\u001b[0m \u001b[0mmelody_sim_thres\u001b[0m\u001b[0;34m=\u001b[0m\u001b[0;36m0.25\u001b[0m\u001b[0;34m,\u001b[0m\u001b[0;34m\u001b[0m\u001b[0m\n\u001b[0;32m---> 10\u001b[0;31m                             lyrics_sim_thres=0.25, get_recording_rels=False)\n\u001b[0m",
      "\u001b[0;32m/Users/sertansenturk_mtg/Documents/notaIcra/code/SymbTr-metadata-extractor/symbtrdataextractor/extractor.pyc\u001b[0m in \u001b[0;36mextract\u001b[0;34m(scorefile, symbtrname, mbid, seg_note_idx, extract_all_labels, lyrics_sim_thres, melody_sim_thres, get_recording_rels, print_warnings)\u001b[0m\n\u001b[1;32m     40\u001b[0m     autoPhrase = extractAutoSegPhrase(score, sections=data['sections'], \n\u001b[1;32m     41\u001b[0m         \u001b[0mseg_note_idx\u001b[0m \u001b[0;34m=\u001b[0m \u001b[0mseg_note_idx\u001b[0m\u001b[0;34m,\u001b[0m \u001b[0mlyrics_sim_thres\u001b[0m\u001b[0;34m=\u001b[0m\u001b[0mlyrics_sim_thres\u001b[0m\u001b[0;34m,\u001b[0m\u001b[0;34m\u001b[0m\u001b[0m\n\u001b[0;32m---> 42\u001b[0;31m         melody_sim_thres=melody_sim_thres)\n\u001b[0m\u001b[1;32m     43\u001b[0m \u001b[0;34m\u001b[0m\u001b[0m\n\u001b[1;32m     44\u001b[0m     \u001b[0mdata\u001b[0m\u001b[0;34m[\u001b[0m\u001b[0;34m'phrases'\u001b[0m\u001b[0;34m]\u001b[0m \u001b[0;34m=\u001b[0m \u001b[0;34m{\u001b[0m\u001b[0;34m'annotated'\u001b[0m\u001b[0;34m:\u001b[0m\u001b[0mannoPhrase\u001b[0m\u001b[0;34m,\u001b[0m \u001b[0;34m'automatic'\u001b[0m\u001b[0;34m:\u001b[0m \u001b[0mautoPhrase\u001b[0m\u001b[0;34m}\u001b[0m\u001b[0;34m\u001b[0m\u001b[0m\n",
      "\u001b[0;32m/Users/sertansenturk_mtg/Documents/notaIcra/code/SymbTr-metadata-extractor/symbtrdataextractor/phrase.pyc\u001b[0m in \u001b[0;36mextractAutoSegPhrase\u001b[0;34m(score, seg_note_idx, sections, lyrics_sim_thres, melody_sim_thres)\u001b[0m\n\u001b[1;32m     23\u001b[0m         \u001b[0;32mif\u001b[0m \u001b[0mautoSegBound_idx\u001b[0m\u001b[0;34m:\u001b[0m\u001b[0;34m\u001b[0m\u001b[0m\n\u001b[1;32m     24\u001b[0m             phrases = extractPhrases(autoSegBound_idx, score, sections = sections, lyrics_sim_thres = 0.25, \n\u001b[0;32m---> 25\u001b[0;31m                 melody_sim_thres = 0.25)\n\u001b[0m\u001b[1;32m     26\u001b[0m         \u001b[0;32melse\u001b[0m\u001b[0;34m:\u001b[0m\u001b[0;34m\u001b[0m\u001b[0m\n\u001b[1;32m     27\u001b[0m             \u001b[0mphrases\u001b[0m \u001b[0;34m=\u001b[0m \u001b[0;34m[\u001b[0m\u001b[0;34m]\u001b[0m\u001b[0;34m\u001b[0m\u001b[0m\n",
      "\u001b[0;32m/Users/sertansenturk_mtg/Documents/notaIcra/code/SymbTr-metadata-extractor/symbtrdataextractor/phrase.pyc\u001b[0m in \u001b[0;36mextractPhrases\u001b[0;34m(bounds, score, sections, lyrics_sim_thres, melody_sim_thres)\u001b[0m\n\u001b[1;32m     74\u001b[0m         \u001b[0;32mif\u001b[0m \u001b[0msections\u001b[0m\u001b[0;34m:\u001b[0m\u001b[0;34m\u001b[0m\u001b[0m\n\u001b[1;32m     75\u001b[0m             startSectionIdx = [i for i, sec in enumerate(sections) \n\u001b[0;32m---> 76\u001b[0;31m                 if startNote >= sec['startNote'] and startNote <= sec['endNote']][0]\n\u001b[0m\u001b[1;32m     77\u001b[0m             endSectionIdx = [i for i, sec in enumerate(sections) \n\u001b[1;32m     78\u001b[0m                 if endNote >= sec['startNote'] and endNote <= sec['endNote']][0]\n",
      "\u001b[0;31mIndexError\u001b[0m: list index out of range"
     ]
    }
   ],
   "source": [
    "txtfilename = os.path.join('sampledata','kurdilihicazkar--sarki--agiraksak--ehl-i_askin--tatyos_efendi.txt')\n",
    "autoSegfile = os.path.join('sampledata','kurdilihicazkar--sarki--agiraksak--ehl-i_askin--tatyos_efendi.autoSeg')\n",
    "\n",
    "scorename = os.path.splitext(os.path.basename(txtfilename))[0]\n",
    "mbid = 'b43fd61e-522c-4af4-821d-db85722bf48c'\n",
    "autoSegBounds = json.load(open(autoSegfile,'r'))['boundary_noteIdx']\n",
    "\n",
    "txtdata, isDataValid = extractor.extract(txtfilename, symbtrname=scorename, seg_note_idx=autoSegBounds,\n",
    "                            mbid=mbid, extract_all_labels=False, melody_sim_thres=0.25, \n",
    "                            lyrics_sim_thres=0.25, get_recording_rels=False)\n"
   ]
  },
  {
   "cell_type": "code",
   "execution_count": null,
   "metadata": {
    "collapsed": false
   },
   "outputs": [],
   "source": [
    "mu2filename = os.path.join('sampledata','kurdilihicazkar--sarki--agiraksak--ehl-i_askin--tatyos_efendi.mu2')\n",
    "mu2header, headerRow, isHederValid = symbtrreader.readMu2Header(mu2filename, symbtrname=scorename)\n"
   ]
  },
  {
   "cell_type": "code",
   "execution_count": null,
   "metadata": {
    "collapsed": false,
    "scrolled": false
   },
   "outputs": [],
   "source": [
    "data = extractor.merge(txtdata, mu2header)\n",
    "pprint.pprint(data)\n"
   ]
  }
 ],
 "metadata": {
  "kernelspec": {
   "display_name": "Python 2",
   "language": "python",
   "name": "python2"
  },
  "language_info": {
   "codemirror_mode": {
    "name": "ipython",
    "version": 2
   },
   "file_extension": ".py",
   "mimetype": "text/x-python",
   "name": "python",
   "nbconvert_exporter": "python",
   "pygments_lexer": "ipython2",
   "version": "2.7.10"
  }
 },
 "nbformat": 4,
 "nbformat_minor": 0
}
