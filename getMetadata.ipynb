{
 "cells": [
  {
   "cell_type": "code",
   "execution_count": 1,
   "metadata": {
    "collapsed": false
   },
   "outputs": [
    {
     "data": {
      "text/plain": [
       "<module 'compmusic.extractors.makam.metadata' from '/home/sertansenturk/Documents/notaIcra/code/pycompmusic/compmusic/extractors/makam/metadata.pyc'>"
      ]
     },
     "execution_count": 1,
     "metadata": {},
     "output_type": "execute_result"
    }
   ],
   "source": [
    "from extras.fileOperations import getFileNamesInDir\n",
    "from compmusic.extractors.makam import metadata as md\n",
    "import os\n",
    "import sys\n",
    "import codecs\n",
    "\n",
    "reload(md)"
   ]
  },
  {
   "cell_type": "code",
   "execution_count": 2,
   "metadata": {
    "collapsed": false
   },
   "outputs": [],
   "source": [
    "txtfolder = '../../data/SymbTr/'\n",
    "[txtfiles, baseTemp, symbtrnames] = getFileNamesInDir(txtfolder, '.txt')\n",
    "symbtrnames = [os.path.splitext(s)[0] for s in symbtrnames]\n",
    "\n",
    "metadataFolder = './metadata/'\n",
    "metadataFiles = [os.path.join(metadataFolder, s) for s in symbtrnames]"
   ]
  },
  {
   "cell_type": "code",
   "execution_count": 12,
   "metadata": {
    "collapsed": false,
    "scrolled": true
   },
   "outputs": [
    {
     "name": "stdout",
     "output_type": "stream",
     "text": [
      "Extraction complete!\n"
     ]
    }
   ],
   "source": [
    "## get section metadata \n",
    "\n",
    "# stdout is directed to file to be manipulated later\n",
    "old_stdout = sys.stdout\n",
    "sys.stdout = codecs.open('log.txt', 'w', \"utf-8\")\n",
    "\n",
    "# loop through all scores\n",
    "for f, mf, s in zip(txtfiles, metadataFiles, symbtrnames):\n",
    "    print s\n",
    "    metadata = md.extract(f, s)\n",
    "    with open(mf, 'w') as text_file:\n",
    "        text_file.write(metadata)\n",
    "        \n",
    "# return to old stdout\n",
    "sys.stdout = old_stdout\n",
    "\n",
    "print \"Extraction complete!\""
   ]
  },
  {
   "cell_type": "code",
   "execution_count": 14,
   "metadata": {
    "collapsed": false,
    "scrolled": false
   },
   "outputs": [],
   "source": [
    "prevLineWarn = False\n",
    "prevNoLyricsWarn = False\n",
    "warn_log = []\n",
    "no_lyrics_log = []\n",
    "for line in reversed(open(\"log.txt\").readlines()):\n",
    "    if line == '    Lyrics is empty. Cannot determine the sections\\n': # no lyrics, no need to copy\n",
    "        prevNoLyricsWarn = True\n",
    "        prevLineWarn = False\n",
    "    elif prevNoLyricsWarn: # score with no lyrics\n",
    "        prevNoLyricsWarn = False\n",
    "        prevLineWarn = False\n",
    "        no_lyrics_log.append(line)\n",
    "    elif line[0] == ' ': # warning, copy\n",
    "        prevNoLyricsWarn = False\n",
    "        prevLineWarn = True\n",
    "        warn_log.append(line)\n",
    "    elif prevLineWarn: # score with warning\n",
    "        prevNoLyricsWarn = False\n",
    "        prevLineWarn = False\n",
    "        warn_log.append(line)\n",
    "    else: # score wo warning\n",
    "        prevNoLyricsWarn = False\n",
    "        prevLineWarn = False\n",
    "\n",
    "with open('warn_log.txt', 'w') as ll:\n",
    "    ll.writelines(reversed(warn_log))\n",
    "    \n",
    "with open('no_lyrics_log.txt', 'w') as ll:\n",
    "    ll.writelines(reversed(no_lyrics_log))\n",
    "        "
   ]
  },
  {
   "cell_type": "code",
   "execution_count": 10,
   "metadata": {
    "collapsed": false
   },
   "outputs": [
    {
     "data": {
      "text/plain": [
       "'huseyni--sarki--agiraksak--bendeni_gordukce--ismet_aga\\n'"
      ]
     },
     "execution_count": 10,
     "metadata": {},
     "output_type": "execute_result"
    }
   ],
   "source": []
  },
  {
   "cell_type": "code",
   "execution_count": 16,
   "metadata": {
    "collapsed": false
   },
   "outputs": [
    {
     "data": {
      "text/plain": [
       "8"
      ]
     },
     "execution_count": 16,
     "metadata": {},
     "output_type": "execute_result"
    }
   ],
   "source": [
    "import Levenshtein\n",
    "\n",
    "Levenshtein.distance('huseyni--sarki--agiraksak--bendeni_gordukce--ismet_aga', 'huseyni--sarkiasdfagiraksakadsf--bendeni_gordukce--ismet_aga')"
   ]
  },
  {
   "cell_type": "code",
   "execution_count": null,
   "metadata": {
    "collapsed": true
   },
   "outputs": [],
   "source": []
  }
 ],
 "metadata": {
  "kernelspec": {
   "display_name": "Python 2",
   "language": "python",
   "name": "python2"
  },
  "language_info": {
   "codemirror_mode": {
    "name": "ipython",
    "version": 2
   },
   "file_extension": ".py",
   "mimetype": "text/x-python",
   "name": "python",
   "nbconvert_exporter": "python",
   "pygments_lexer": "ipython2",
   "version": "2.7.6"
  }
 },
 "nbformat": 4,
 "nbformat_minor": 0
}
