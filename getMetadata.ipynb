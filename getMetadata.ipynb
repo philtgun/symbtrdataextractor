{
 "cells": [
  {
   "cell_type": "code",
   "execution_count": 20,
   "metadata": {
    "collapsed": false
   },
   "outputs": [],
   "source": [
    "from extras.fileOperations import getFileNamesInDir\n",
    "from compmusic.extractors.makam import scoremetadata as md\n",
    "import os\n",
    "import sys\n",
    "import codecs\n",
    "import json\n",
    "import pdb"
   ]
  },
  {
   "cell_type": "code",
   "execution_count": 24,
   "metadata": {
    "collapsed": false,
    "scrolled": true
   },
   "outputs": [
    {
     "data": {
      "text/plain": [
       "{'metadata': {'composer': 'lavtaci_hristo',\n",
       "  'form': 'kanto',\n",
       "  'makam': 'huzzam',\n",
       "  'name': 'bana_bir',\n",
       "  'sections': [{'endNote': 31, 'name': u'ARANAGME', 'startNote': 1},\n",
       "   {'endNote': 67, 'name': u'ARANAGME', 'startNote': 32},\n",
       "   {'endNote': 78, 'name': 'LYRICS_SECTION', 'startNote': 68},\n",
       "   {'endNote': 98, 'name': 'LYRICS_SECTION', 'startNote': 79},\n",
       "   {'endNote': 109, 'name': 'LYRICS_SECTION', 'startNote': 99},\n",
       "   {'endNote': 129, 'name': 'LYRICS_SECTION', 'startNote': 110},\n",
       "   {'endNote': 143, 'name': 'LYRICS_SECTION', 'startNote': 130},\n",
       "   {'endNote': 158, 'name': 'LYRICS_SECTION', 'startNote': 144},\n",
       "   {'endNote': 172, 'name': 'LYRICS_SECTION', 'startNote': 159},\n",
       "   {'endNote': 191, 'name': 'LYRICS_SECTION', 'startNote': 173},\n",
       "   {'endNote': 222, 'name': 'LYRICS_SECTION', 'startNote': 192},\n",
       "   {'endNote': 253, 'name': 'LYRICS_SECTION', 'startNote': 223},\n",
       "   {'endNote': 267, 'name': 'LYRICS_SECTION', 'startNote': 254},\n",
       "   {'endNote': 282, 'name': 'LYRICS_SECTION', 'startNote': 268},\n",
       "   {'endNote': 296, 'name': 'LYRICS_SECTION', 'startNote': 283},\n",
       "   {'endNote': 309, 'name': 'LYRICS_SECTION', 'startNote': 297}],\n",
       "  'tonic': u'B4b1',\n",
       "  'usul': 'aksak'}}"
      ]
     },
     "execution_count": 24,
     "metadata": {},
     "output_type": "execute_result"
    }
   ],
   "source": [
    "txtfolder = '/Volumes/SHARED/data/SymbTr/txt'\n",
    "scorename = 'huzzam--kanto--aksak--bana_bir--lavtaci_hristo'\n",
    "scorefile = os.path.join(txtfolder, scorename+'.txt')\n",
    "\n",
    "metadata = md.extract(scorefile, scorename)\n",
    "metadata"
   ]
  },
  {
   "cell_type": "code",
   "execution_count": 5,
   "metadata": {
    "collapsed": false
   },
   "outputs": [],
   "source": [
    "txtfolder = '/Volumes/SHARED/data/SymbTr'\n",
    "[txtfiles, baseTemp, symbtrnames] = getFileNamesInDir(txtfolder, '.txt')\n",
    "symbtrnames = [os.path.splitext(s)[0] for s in symbtrnames]\n",
    "logfile = 'logs/log.txt'\n",
    "\n",
    "metadataFolder = './metadata/'\n",
    "metadataFiles = [os.path.join(metadataFolder, s + '.json') for s in symbtrnames]"
   ]
  },
  {
   "cell_type": "code",
   "execution_count": 6,
   "metadata": {
    "collapsed": false,
    "scrolled": true
   },
   "outputs": [
    {
     "name": "stdout",
     "output_type": "stream",
     "text": [
      "Extraction complete!\n"
     ]
    }
   ],
   "source": [
    "## get section metadata \n",
    "\n",
    "# stdout is directed to file to be manipulated later\n",
    "old_stdout = sys.stdout\n",
    "sys.stdout = codecs.open(logfile, 'w', \"utf-8\")\n",
    "\n",
    "# loop through all scores\n",
    "for f, mf, s in zip(txtfiles, metadataFiles, symbtrnames):\n",
    "    if not s[0] == '.': # ignore temprary files\n",
    "        print s\n",
    "        metadata = md.extract(f, s)\n",
    "        with open(mf, 'w') as text_file:\n",
    "            json.dump(metadata, text_file)\n",
    "        \n",
    "# return to old stdout\n",
    "sys.stdout = old_stdout\n",
    "\n",
    "print \"Extraction complete!\""
   ]
  },
  {
   "cell_type": "code",
   "execution_count": 7,
   "metadata": {
    "collapsed": false,
    "scrolled": false
   },
   "outputs": [],
   "source": [
    "prevLineWarn = False\n",
    "prevNoLyricsWarn = False\n",
    "warn_log = []\n",
    "no_section_log = []\n",
    "for line in reversed(open(logfile).readlines()):\n",
    "    if 'Missing section info in lyrics' in line: # no lyrics, no need to copy\n",
    "        prevNoLyricsWarn = True\n",
    "        prevLineWarn = False\n",
    "    elif prevNoLyricsWarn: # score with no lyrics\n",
    "        if line[0] == ' ': # warning, copy\n",
    "            prevNoLyricsWarn = True\n",
    "            prevLineWarn = True\n",
    "            no_section_log.append(line)\n",
    "        else:\n",
    "            prevNoLyricsWarn = False\n",
    "            prevLineWarn = False\n",
    "            no_section_log.append(line)\n",
    "    elif line[0] == ' ': # warning, copy\n",
    "        prevNoLyricsWarn = False\n",
    "        prevLineWarn = True\n",
    "        warn_log.append(line)\n",
    "    elif prevLineWarn: # score with warning\n",
    "        prevNoLyricsWarn = False\n",
    "        prevLineWarn = False\n",
    "        warn_log.append(line)\n",
    "    else: # score wo warning\n",
    "        prevNoLyricsWarn = False\n",
    "        prevLineWarn = False\n",
    "\n",
    "with open('logs/warn_log.txt', 'w') as ll:\n",
    "    ll.writelines(reversed(warn_log))\n",
    "    \n",
    "with open('logs/no_section_log.txt', 'w') as ll:\n",
    "    ll.writelines(reversed(no_section_log))\n",
    "        "
   ]
  },
  {
   "cell_type": "code",
   "execution_count": 8,
   "metadata": {
    "collapsed": false
   },
   "outputs": [],
   "source": [
    "no_section_compact = [n for n in no_section_log for c in ['seyir','aranagme','ornek-oz'] if c not in n]\n",
    "no_section_compact = []\n",
    "for n in no_section_log:\n",
    "    if not ('seyir' in n or 'aranagme' in n or 'ornek-oz' in n or 'taksim' in n or 'etud' in n):\n",
    "        no_section_compact.append(n)\n",
    "    \n",
    "with open('logs/no_section_compact_log.txt', 'w') as ll:\n",
    "    ll.writelines(reversed(no_section_compact))"
   ]
  },
  {
   "cell_type": "code",
   "execution_count": 9,
   "metadata": {
    "collapsed": false
   },
   "outputs": [
    {
     "data": {
      "text/plain": [
       "8"
      ]
     },
     "execution_count": 9,
     "metadata": {},
     "output_type": "execute_result"
    }
   ],
   "source": [
    "import Levenshtein\n",
    "\n",
    "Levenshtein.distance('huseyni--sarki--agiraksak--bendeni_gordukce--ismet_aga', 'huseyni--sarkiasdfagiraksakadsf--bendeni_gordukce--ismet_aga')"
   ]
  },
  {
   "cell_type": "code",
   "execution_count": null,
   "metadata": {
    "collapsed": false,
    "scrolled": false
   },
   "outputs": [],
   "source": []
  },
  {
   "cell_type": "code",
   "execution_count": null,
   "metadata": {
    "collapsed": false,
    "scrolled": false
   },
   "outputs": [],
   "source": []
  },
  {
   "cell_type": "code",
   "execution_count": null,
   "metadata": {
    "collapsed": false
   },
   "outputs": [],
   "source": []
  },
  {
   "cell_type": "code",
   "execution_count": null,
   "metadata": {
    "collapsed": true
   },
   "outputs": [],
   "source": []
  }
 ],
 "metadata": {
  "kernelspec": {
   "display_name": "Python 2",
   "language": "python",
   "name": "python2"
  },
  "language_info": {
   "codemirror_mode": {
    "name": "ipython",
    "version": 2
   },
   "file_extension": ".py",
   "mimetype": "text/x-python",
   "name": "python",
   "nbconvert_exporter": "python",
   "pygments_lexer": "ipython2",
   "version": "2.7.9"
  }
 },
 "nbformat": 4,
 "nbformat_minor": 0
}
