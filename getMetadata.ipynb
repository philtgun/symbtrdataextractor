{
 "cells": [
  {
   "cell_type": "code",
   "execution_count": 1,
   "metadata": {
    "collapsed": false
   },
   "outputs": [],
   "source": [
    "from extras.fileOperations import getFileNamesInDir\n",
    "from compmusic.extractors.makam import scoremetadata as md\n",
    "import os\n",
    "import sys\n",
    "import codecs\n",
    "import json\n",
    "import pdb"
   ]
  },
  {
   "cell_type": "code",
   "execution_count": 2,
   "metadata": {
    "collapsed": false
   },
   "outputs": [
    {
     "name": "stdout",
     "output_type": "stream",
     "text": [
      "    48.0: man   and Yan are in the same measure!\n",
      "    46.0: mi   and of   are in the same measure!\n",
      "    40.0: man   and Aş are in the same measure!\n",
      "    20.0: man   and Yan are in the same measure!\n",
      "    18.0: mi   and of   are in the same measure!\n",
      "    12.0: man   and Aş are in the same measure!\n",
      "    179, LYRICS_SECTION does not start on a measure: 12.27778\n",
      "    263, LYRICS_SECTION does not start on a measure: 18.66667\n",
      "    282, LYRICS_SECTION does not start on a measure: 20.27778\n",
      "    552, LYRICS_SECTION does not start on a measure: 40.27778\n",
      "    636, LYRICS_SECTION does not start on a measure: 46.66667\n",
      "    655, LYRICS_SECTION does not start on a measure: 48.27778\n"
     ]
    },
    {
     "data": {
      "text/plain": [
       "{'metadata': {'composer': '',\n",
       "  'form': 'turku',\n",
       "  'makam': 'evic',\n",
       "  'name': 'ayagina_giymis',\n",
       "  'sections': [{'endNote': 62,\n",
       "    'lyric_structure': 'INSTRUMENTAL',\n",
       "    'melodic_structure': u'ARANAGME_1',\n",
       "    'name': u'ARANAGME',\n",
       "    'startNote': 1},\n",
       "   {'endNote': 126,\n",
       "    'lyric_structure': 'INSTRUMENTAL',\n",
       "    'melodic_structure': u'ARANAGME_2',\n",
       "    'name': u'ARANAGME',\n",
       "    'startNote': 63},\n",
       "   {'endNote': 162,\n",
       "    'lyric_structure': 'B1',\n",
       "    'melodic_structure': 'B1',\n",
       "    'name': 'LYRICS_SECTION',\n",
       "    'startNote': 127},\n",
       "   {'endNote': 179,\n",
       "    'lyric_structure': 'C1',\n",
       "    'melodic_structure': 'C1',\n",
       "    'name': 'LYRICS_SECTION',\n",
       "    'startNote': 163},\n",
       "   {'endNote': 212,\n",
       "    'lyric_structure': 'D1',\n",
       "    'melodic_structure': 'D1',\n",
       "    'name': 'LYRICS_SECTION',\n",
       "    'startNote': 180},\n",
       "   {'endNote': 228,\n",
       "    'lyric_structure': 'E1',\n",
       "    'melodic_structure': 'E1',\n",
       "    'name': 'LYRICS_SECTION',\n",
       "    'startNote': 213},\n",
       "   {'endNote': 263,\n",
       "    'lyric_structure': 'F1',\n",
       "    'melodic_structure': 'B2',\n",
       "    'name': 'LYRICS_SECTION',\n",
       "    'startNote': 229},\n",
       "   {'endNote': 265,\n",
       "    'lyric_structure': 'G1',\n",
       "    'melodic_structure': 'F1',\n",
       "    'name': 'LYRICS_SECTION',\n",
       "    'startNote': 264},\n",
       "   {'endNote': 282,\n",
       "    'lyric_structure': 'H1',\n",
       "    'melodic_structure': 'C1',\n",
       "    'name': 'LYRICS_SECTION',\n",
       "    'startNote': 266},\n",
       "   {'endNote': 329,\n",
       "    'lyric_structure': 'I1',\n",
       "    'melodic_structure': 'G1',\n",
       "    'name': 'LYRICS_SECTION',\n",
       "    'startNote': 283},\n",
       "   {'endNote': 373,\n",
       "    'lyric_structure': 'J1',\n",
       "    'melodic_structure': 'G2',\n",
       "    'name': 'LYRICS_SECTION',\n",
       "    'startNote': 330},\n",
       "   {'endNote': 435,\n",
       "    'lyric_structure': 'INSTRUMENTAL',\n",
       "    'melodic_structure': u'ARANAGME_1',\n",
       "    'name': u'ARANAGME',\n",
       "    'startNote': 374},\n",
       "   {'endNote': 499,\n",
       "    'lyric_structure': 'INSTRUMENTAL',\n",
       "    'melodic_structure': u'ARANAGME_2',\n",
       "    'name': u'ARANAGME',\n",
       "    'startNote': 436},\n",
       "   {'endNote': 535,\n",
       "    'lyric_structure': 'B1',\n",
       "    'melodic_structure': 'B1',\n",
       "    'name': 'LYRICS_SECTION',\n",
       "    'startNote': 500},\n",
       "   {'endNote': 552,\n",
       "    'lyric_structure': 'C1',\n",
       "    'melodic_structure': 'C1',\n",
       "    'name': 'LYRICS_SECTION',\n",
       "    'startNote': 536},\n",
       "   {'endNote': 585,\n",
       "    'lyric_structure': 'D1',\n",
       "    'melodic_structure': 'D1',\n",
       "    'name': 'LYRICS_SECTION',\n",
       "    'startNote': 553},\n",
       "   {'endNote': 601,\n",
       "    'lyric_structure': 'E1',\n",
       "    'melodic_structure': 'E1',\n",
       "    'name': 'LYRICS_SECTION',\n",
       "    'startNote': 586},\n",
       "   {'endNote': 636,\n",
       "    'lyric_structure': 'F1',\n",
       "    'melodic_structure': 'B2',\n",
       "    'name': 'LYRICS_SECTION',\n",
       "    'startNote': 602},\n",
       "   {'endNote': 638,\n",
       "    'lyric_structure': 'G1',\n",
       "    'melodic_structure': 'F1',\n",
       "    'name': 'LYRICS_SECTION',\n",
       "    'startNote': 637},\n",
       "   {'endNote': 655,\n",
       "    'lyric_structure': 'H1',\n",
       "    'melodic_structure': 'C1',\n",
       "    'name': 'LYRICS_SECTION',\n",
       "    'startNote': 639},\n",
       "   {'endNote': 702,\n",
       "    'lyric_structure': 'I1',\n",
       "    'melodic_structure': 'G1',\n",
       "    'name': 'LYRICS_SECTION',\n",
       "    'startNote': 656},\n",
       "   {'endNote': 746,\n",
       "    'lyric_structure': 'J1',\n",
       "    'melodic_structure': 'G2',\n",
       "    'name': 'LYRICS_SECTION',\n",
       "    'startNote': 703}],\n",
       "  'tonic': u'F4#4',\n",
       "  'usul': 'aksak'}}"
      ]
     },
     "execution_count": 2,
     "metadata": {},
     "output_type": "execute_result"
    }
   ],
   "source": [
    "txtfolder = '/Volumes/SHARED/data/SymbTr/txt'\n",
    "scorename = 'hicaz--sarki--aksak--sazlar_calinir--yesari_asim_arsoy'\n",
    "scorename = 'evic--turku--aksak--ayagina_giymis--'\n",
    "\n",
    "scorefile = os.path.join(txtfolder, scorename+'.txt')\n",
    "\n",
    "metadata = md.extract(scorefile, scorename, lyrics_sim_thres=.25)\n",
    "metadata"
   ]
  },
  {
   "cell_type": "code",
   "execution_count": 3,
   "metadata": {
    "collapsed": false
   },
   "outputs": [],
   "source": [
    "txtfolder = '/Volumes/SHARED/data/SymbTr'\n",
    "[txtfiles, baseTemp, symbtrnames] = getFileNamesInDir(txtfolder, '.txt')\n",
    "symbtrnames = [os.path.splitext(s)[0] for s in symbtrnames]\n",
    "logfile = 'logs/log.txt'\n",
    "\n",
    "metadataFolder = './metadata/'\n",
    "metadataFiles = [os.path.join(metadataFolder, s + '.json') for s in symbtrnames]"
   ]
  },
  {
   "cell_type": "code",
   "execution_count": null,
   "metadata": {
    "collapsed": false,
    "scrolled": false
   },
   "outputs": [],
   "source": [
    "## get section metadata \n",
    "\n",
    "# stdout is directed to file to be manipulated later\n",
    "old_stdout = sys.stdout\n",
    "sys.stdout = codecs.open(logfile, 'w', \"utf-8\")\n",
    "\n",
    "# loop through all scores\n",
    "for f, mf, s in zip(txtfiles, metadataFiles, symbtrnames):\n",
    "    if not s[0] == '.': # ignore temprary files\n",
    "        print s\n",
    "        metadata = md.extract(f, s)\n",
    "        with open(mf, 'w') as text_file:\n",
    "            json.dump(metadata, text_file, indent=4)\n",
    "        \n",
    "# return to old stdout\n",
    "sys.stdout = old_stdout\n",
    "\n",
    "print \"Extraction complete!\""
   ]
  },
  {
   "cell_type": "code",
   "execution_count": null,
   "metadata": {
    "collapsed": false,
    "scrolled": false
   },
   "outputs": [],
   "source": [
    "prevLineWarn = False\n",
    "prevNoLyricsWarn = False\n",
    "warn_log = []\n",
    "no_section_log = []\n",
    "for line in reversed(open(logfile).readlines()):\n",
    "    if 'Missing section info in lyrics' in line: # no lyrics, no need to copy\n",
    "        prevNoLyricsWarn = True\n",
    "        prevLineWarn = False\n",
    "    elif prevNoLyricsWarn: # score with no lyrics\n",
    "        if line[0] == ' ': # warning, copy\n",
    "            prevNoLyricsWarn = True\n",
    "            prevLineWarn = True\n",
    "            no_section_log.append(line)\n",
    "        else:\n",
    "            prevNoLyricsWarn = False\n",
    "            prevLineWarn = False\n",
    "            no_section_log.append(line)\n",
    "    elif line[0] == ' ': # warning, copy\n",
    "        prevNoLyricsWarn = False\n",
    "        prevLineWarn = True\n",
    "        warn_log.append(line)\n",
    "    elif prevLineWarn: # score with warning\n",
    "        prevNoLyricsWarn = False\n",
    "        prevLineWarn = False\n",
    "        warn_log.append(line)\n",
    "    else: # score wo warning\n",
    "        prevNoLyricsWarn = False\n",
    "        prevLineWarn = False\n",
    "\n",
    "with open('logs/warn_log.txt', 'w') as ll:\n",
    "    ll.writelines(reversed(warn_log))\n",
    "    \n",
    "with open('logs/no_section_log.txt', 'w') as ll:\n",
    "    ll.writelines(reversed(no_section_log))\n",
    "        "
   ]
  },
  {
   "cell_type": "code",
   "execution_count": null,
   "metadata": {
    "collapsed": false
   },
   "outputs": [],
   "source": [
    "no_section_compact = [n for n in no_section_log for c in ['seyir','aranagme','ornek-oz'] if c not in n]\n",
    "no_section_compact = []\n",
    "for n in no_section_log:\n",
    "    if not ('seyir' in n or 'aranagme' in n or 'ornek-oz' in n or 'taksim' in n or 'etud' in n):\n",
    "        no_section_compact.append(n)\n",
    "    \n",
    "with open('logs/no_section_compact_log.txt', 'w') as ll:\n",
    "    ll.writelines(reversed(no_section_compact))"
   ]
  },
  {
   "cell_type": "code",
   "execution_count": null,
   "metadata": {
    "collapsed": false
   },
   "outputs": [],
   "source": [
    "from compmusic.extractors.makam import scoremetadata as md\n",
    "import numpy as np\n",
    "dists = np.matrix([[0, 0, 0.25, 0.25, 2, 2, 2, .5, 5],\n",
    "        [0, 0, 0.25, 0.25, 2, 2, 2, .5, 5],\n",
    "        [0.25, 0.25, 0, 0, 1.65, 1.65, 1.43, .55, 5],\n",
    "        [0.25, 0.25, 0, 0, 1.65, 1.65, 1.43, .55, 5],\n",
    "        [2, 2, 1.65, 1.65, 0, 0, .7, .1, 5],\n",
    "        [2, 2, 1.65, 1.65, 0, 0, .7, .1, 5],\n",
    "        [2, 2, 1.43, 1.43, .7, .7, 0, .15, 5],\n",
    "        [.5, .5, .55, .55, .1, .1, .15, 0, 5],\n",
    "        [.5, .5, .55, .55, .6, .6, .6, 6, 0]])\n",
    "\n",
    "groups = md.getCliques(dists, 0.25)\n",
    "print groups['exact']\n",
    "print groups['similar']\n",
    "\n",
    "md.semiotize(groups)"
   ]
  },
  {
   "cell_type": "code",
   "execution_count": null,
   "metadata": {
    "collapsed": false,
    "scrolled": false
   },
   "outputs": [],
   "source": [
    "sys.stdout = old_stdout\n",
    "print s"
   ]
  },
  {
   "cell_type": "code",
   "execution_count": null,
   "metadata": {
    "collapsed": false,
    "scrolled": false
   },
   "outputs": [],
   "source": []
  },
  {
   "cell_type": "code",
   "execution_count": null,
   "metadata": {
    "collapsed": false
   },
   "outputs": [],
   "source": []
  },
  {
   "cell_type": "code",
   "execution_count": null,
   "metadata": {
    "collapsed": true
   },
   "outputs": [],
   "source": []
  }
 ],
 "metadata": {
  "kernelspec": {
   "display_name": "Python 2",
   "language": "python",
   "name": "python2"
  },
  "language_info": {
   "codemirror_mode": {
    "name": "ipython",
    "version": 2
   },
   "file_extension": ".py",
   "mimetype": "text/x-python",
   "name": "python",
   "nbconvert_exporter": "python",
   "pygments_lexer": "ipython2",
   "version": "2.7.9"
  }
 },
 "nbformat": 4,
 "nbformat_minor": 0
}
