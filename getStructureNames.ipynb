{
 "cells": [
  {
   "cell_type": "code",
   "execution_count": 1,
   "metadata": {
    "collapsed": false
   },
   "outputs": [
    {
     "data": {
      "text/plain": [
       "<module 'MetadataExtractor' from 'MetadataExtractor.pyc'>"
      ]
     },
     "execution_count": 1,
     "metadata": {},
     "output_type": "execute_result"
    }
   ],
   "source": [
    "from extras.fileOperations import getFileNamesInDir\n",
    "import MetadataExtractor\n",
    "import os \n",
    "import csv\n",
    "import json\n",
    "\n",
    "reload(MetadataExtractor)"
   ]
  },
  {
   "cell_type": "code",
   "execution_count": 2,
   "metadata": {
    "collapsed": false
   },
   "outputs": [],
   "source": [
    "symbtr_dir = '../../data/SymbTr/'\n",
    "symbtrtxt_dir = os.path.join(symbtr_dir, 'txt')\n",
    "\n"
   ]
  },
  {
   "cell_type": "code",
   "execution_count": 3,
   "metadata": {
    "collapsed": true
   },
   "outputs": [],
   "source": [
    "txtfiles = getFileNamesInDir(symbtrtxt_dir, '.txt')[0]\n"
   ]
  },
  {
   "cell_type": "code",
   "execution_count": 37,
   "metadata": {
    "collapsed": false
   },
   "outputs": [
    {
     "name": "stdout",
     "output_type": "stream",
     "text": [
      "../../data/SymbTr/txt/hicaz--fantezi--sofyan--basin_one--kerem_guney.txt\n",
      "SERBEST\n",
      "../../data/SymbTr/txt/hicaz--fantezi--sofyan--basin_one--kerem_guney.txt\n",
      "SERBEST\n",
      "../../data/SymbTr/txt/hicaz--fantezi--sofyan--basin_one--kerem_guney.txt\n",
      "SERBEST\n",
      "../../data/SymbTr/txt/muhayyer--divan--nimsofyan--ok_gibi--.txt\n",
      "SERBEST\n",
      "../../data/SymbTr/txt/hicaz--kalenderi--aksak--ebrulerinin_zahmi--ii_mahmud.txt\n",
      "SERBEST\n"
     ]
    }
   ],
   "source": [
    "lyrics_ngram = dict()\n",
    "section_ngram = dict()\n",
    "for scorefile in txtfiles:\n",
    "    with open(scorefile, \"rb\") as f:\n",
    "        reader = csv.reader(f, delimiter='\\t')\n",
    "\n",
    "        header = next(reader, None)\n",
    "        lyrics_col = header.index('Soz1')\n",
    "\n",
    "        for row in reader:\n",
    "            st = row[lyrics_col]\n",
    "            if not (st == '' or st == '.'):\n",
    "                if \"SERBEST\" == st:\n",
    "                    print scorefile\n",
    "                    print st\n",
    "                if st.isupper():  # section\n",
    "                    if st in section_ngram.keys():\n",
    "                        section_ngram[st] += 1\n",
    "                    else:\n",
    "                        section_ngram[st] = 1\n",
    "                else:\n",
    "                    if st in lyrics_ngram.keys():\n",
    "                        lyrics_ngram[st] += 1\n",
    "                    else:\n",
    "                        lyrics_ngram[st] = 1\n",
    "\n"
   ]
  },
  {
   "cell_type": "code",
   "execution_count": 36,
   "metadata": {
    "collapsed": false
   },
   "outputs": [
    {
     "name": "stdout",
     "output_type": "stream",
     "text": [
      "SAZ\n",
      "ARANAĞME\n",
      "TESLİM\n",
      "1. HANE\n",
      "2. HANE\n",
      "KARAR\n",
      "3. HANE\n",
      "4. HANE\n",
      "MÜLÂZİME\n",
      "TESLİM\n",
      "2. HANEYE\n",
      "3. HANEYE\n",
      "4. HANEYE\n",
      "2. HANE VE TESLİM\n",
      "1. HANE VE MÜLÂZİME\n",
      "TESLİM\n",
      "SERBEST\n",
      "DAVUL\n",
      "4. HANE\n",
      "TERENNÜM\n",
      "SESLERLE NİNNİ\n",
      "KÜŞAT\n",
      "GİRİŞ SAZI\n",
      "SERHÂNE\n",
      "HÂNE-İ SÂNİ\n",
      "HÂNE-İ SÂLİS\n",
      "GİRİŞ\n",
      "AĞIRLAŞARAK\n",
      "3. HANE\n",
      "2. HANE\n",
      "1. HANE\n",
      "SON HANE\n",
      "SERHANE\n",
      "RİTM\n",
      "II.\n",
      "I.\n",
      "GİRİŞ VE ARA SAZI\n",
      "DÖNÜŞTE YAVAŞLAYARAK\n",
      "CANLI OLARAK\n",
      "BANDO\n",
      "ARA SAZI\n",
      "YAVAŞLAYARAK\n",
      "OYUN KISMI\n",
      "ORTA HANE\n",
      "MÜZİK (YÜRÜK)\n",
      "FİNAL\n",
      "AĞIRLAMA\n",
      "AĞIR\n",
      "5. HANE\n"
     ]
    }
   ],
   "source": [
    "# by hand picking we selected the structure related labels as\n",
    "structure_labels = {'structure_labels': []}\n",
    "with open('lyrics_ngram', \"rb\") as f:\n",
    "    reader = csv.reader(f, delimiter='\\t')\n",
    "    \n",
    "    for row in reader:\n",
    "        structure_labels['structure_labels'].append(row[0])\n",
    "        print row[0]\n"
   ]
  },
  {
   "cell_type": "code",
   "execution_count": 52,
   "metadata": {
    "collapsed": false,
    "scrolled": false
   },
   "outputs": [
    {
     "name": "stdout",
     "output_type": "stream",
     "text": [
      "ARANAĞME\n",
      "TESLİM\n",
      "1. HANE\n",
      "2. HANE\n",
      "KARAR\n",
      "3. HANE\n",
      "4. HANE\n",
      "MÜLÂZİME\n",
      "TESLİM\n",
      "2. HANEYE\n",
      "3. HANEYE\n",
      "4. HANEYE\n",
      "2. HANE VE TESLİM\n",
      "1. HANE VE MÜLÂZİME\n",
      "TESLİM\n",
      "4. HANE\n",
      "TERENNÜM\n",
      "SESLERLE NİNNİ\n",
      "KÜŞAT\n",
      "GİRİŞ SAZI\n",
      "SERHÂNE\n",
      "HÂNE-İ SÂNİ\n",
      "HÂNE-İ SÂLİS\n",
      "GİRİŞ\n",
      "3. HANE\n",
      "2. HANE\n",
      "1. HANE\n",
      "SON HANE\n",
      "SERHANE\n",
      "RİTM\n",
      "II.\n",
      "I.\n",
      "GİRİŞ VE ARA SAZI\n",
      "ARA SAZI\n",
      "OYUN KISMI\n",
      "ORTA HANE\n",
      "MÜZİK (YÜRÜK)\n",
      "FİNAL\n",
      "5. HANE\n"
     ]
    }
   ],
   "source": [
    "with open('structure_labels_wrong.json', 'r') as f:\n",
    "    a = json.load(f)\n",
    "    \n",
    "for i in a['structure']:\n",
    "    print i"
   ]
  },
  {
   "cell_type": "code",
   "execution_count": 51,
   "metadata": {
    "collapsed": false
   },
   "outputs": [],
   "source": [
    "with open('structure_labels.json', 'w') as f:\n",
    "    json.dump({'a':{'b':\"1\", 'asd':76}, 'asdf':234}, f, indent=4)"
   ]
  },
  {
   "cell_type": "code",
   "execution_count": 50,
   "metadata": {
    "collapsed": false
   },
   "outputs": [
    {
     "data": {
      "text/plain": [
       "{'a': {'asd': 76, 'b': '1'}, 'asdf': 234}"
      ]
     },
     "execution_count": 50,
     "metadata": {},
     "output_type": "execute_result"
    }
   ],
   "source": [
    "{'a':{'b':\"1\", 'asd':76}, 'asdf':234}"
   ]
  },
  {
   "cell_type": "code",
   "execution_count": null,
   "metadata": {
    "collapsed": true
   },
   "outputs": [],
   "source": []
  }
 ],
 "metadata": {
  "kernelspec": {
   "display_name": "Python 2",
   "language": "python",
   "name": "python2"
  },
  "language_info": {
   "codemirror_mode": {
    "name": "ipython",
    "version": 2
   },
   "file_extension": ".py",
   "mimetype": "text/x-python",
   "name": "python",
   "nbconvert_exporter": "python",
   "pygments_lexer": "ipython2",
   "version": "2.7.6"
  }
 },
 "nbformat": 4,
 "nbformat_minor": 0
}
